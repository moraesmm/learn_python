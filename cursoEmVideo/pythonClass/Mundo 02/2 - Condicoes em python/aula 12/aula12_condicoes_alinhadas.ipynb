{
 "metadata": {
  "language_info": {
   "codemirror_mode": {
    "name": "ipython",
    "version": 3
   },
   "file_extension": ".py",
   "mimetype": "text/x-python",
   "name": "python",
   "nbconvert_exporter": "python",
   "pygments_lexer": "ipython3",
   "version": "3.8.5"
  },
  "orig_nbformat": 2,
  "kernelspec": {
   "name": "python385jvsc74a57bd04a6e7bfd3d1e7148d77e9dbe2f33a582b0aa42ba41b7bb97518a70ebecc8b379",
   "display_name": "Python 3.8.5 64-bit ('morae': virtualenv)"
  }
 },
 "nbformat": 4,
 "nbformat_minor": 2,
 "cells": [
  {
   "cell_type": "code",
   "execution_count": 24,
   "metadata": {},
   "outputs": [
    {
     "output_type": "stream",
     "name": "stdout",
     "text": [
      "{'limpa': '\\x1b[m', 'verde': '\\x1b[1;32m', 'azul': '\\x1b[1;34m'}\n\u001b[1;32m!\u001b[m\noi, \u001b[1;34mtud bem\u001b[m?\n"
     ]
    }
   ],
   "source": [
    "nome = str(input('Qual é seu nome? ')).upper()\n",
    "cores = {'limpa':'\\033[m',\n",
    "        'verde':'\\033[1;32m',\n",
    "        'azul':'\\033[1;34m'}\n",
    "\n",
    "print(cores)\n",
    "print(cores['verde']+'!'+cores['limpa'])\n",
    "print('oi, {}tud bem{}?' .format(cores['azul'], cores['limpa']))\n",
    "\n",
    "#if nome == 'MAURICIO':\n",
    "#    print(f'{cores['verde']}Que nome bonito{cores['limpa']}!!\\n')\n",
    "#print(f'Tenha um bom dia {cores['azul']}{nome}{cores['limpa']}!')\n"
   ]
  },
  {
   "cell_type": "code",
   "execution_count": 32,
   "metadata": {},
   "outputs": [
    {
     "output_type": "stream",
     "name": "stdout",
     "text": [
      "Belo nome feminino\nTenha um bom dia \u001b[1;34mJULIANA\u001b[m!\n"
     ]
    }
   ],
   "source": [
    "nome = str(input('Qual é seu nome? ')).upper()\n",
    "cores = {'limpa':'\\033[m',\n",
    "        'verde':'\\033[1;32m',\n",
    "        'azul':'\\033[1;34m'}\n",
    "\n",
    "if nome == 'MAURICIO':\n",
    "    print('{}Que nome bonito{}!!\\n' .format(cores['verde'], cores['limpa']))\n",
    "elif nome == 'ROBERTO' or nome == 'RODRIGO' or nome == 'PAULO':\n",
    "    print( 'Seu nome é bem popular no Brasil.')\n",
    "elif nome in 'ANA CLAUDIA JESSICA JULIANA':\n",
    "    print('Belo nome feminino.')\n",
    "else:\n",
    "    print('Seu nome é bem normal.')\n",
    "print('Tenha um bom dia {}{}{}!' .format(cores['azul'], nome, cores['limpa']))\n"
   ]
  },
  {
   "cell_type": "code",
   "execution_count": null,
   "metadata": {},
   "outputs": [],
   "source": []
  }
 ]
}