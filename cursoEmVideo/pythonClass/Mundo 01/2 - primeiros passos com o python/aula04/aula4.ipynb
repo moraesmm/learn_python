{
 "metadata": {
  "language_info": {
   "codemirror_mode": {
    "name": "ipython",
    "version": 3
   },
   "file_extension": ".py",
   "mimetype": "text/x-python",
   "name": "python",
   "nbconvert_exporter": "python",
   "pygments_lexer": "ipython3",
   "version": 3
  },
  "orig_nbformat": 2
 },
 "nbformat": 4,
 "nbformat_minor": 2,
 "cells": [
  {
   "cell_type": "code",
   "execution_count": null,
   "metadata": {},
   "outputs": [],
   "source": [
    "nome = input('Qual seu nome')\n",
    "idade = input('Qual sua idade')\n",
    "peso = input('Qual seu peso')\n",
    "\n",
    "print('Oi, {0}, voce tem {1} anos e pesa {2} kg, certo?' .format(nome,idade,peso))"
   ]
  }
 ]
}