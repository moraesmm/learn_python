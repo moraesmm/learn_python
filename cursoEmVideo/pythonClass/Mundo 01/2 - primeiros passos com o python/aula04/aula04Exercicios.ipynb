{
 "metadata": {
  "language_info": {
   "codemirror_mode": {
    "name": "ipython",
    "version": 3
   },
   "file_extension": ".py",
   "mimetype": "text/x-python",
   "name": "python",
   "nbconvert_exporter": "python",
   "pygments_lexer": "ipython3",
   "version": "3.8.5"
  },
  "orig_nbformat": 2,
  "kernelspec": {
   "name": "python385jvsc74a57bd04a6e7bfd3d1e7148d77e9dbe2f33a582b0aa42ba41b7bb97518a70ebecc8b379",
   "display_name": "Python 3.8.5 64-bit ('morae': virtualenv)"
  }
 },
 "nbformat": 4,
 "nbformat_minor": 2,
 "cells": [
  {
   "cell_type": "code",
   "execution_count": 4,
   "metadata": {},
   "outputs": [
    {
     "output_type": "stream",
     "name": "stdout",
     "text": [
      "Olá,  mm !\n"
     ]
    }
   ],
   "source": [
    "# crie um script python que leie o nome de uma pessoa\n",
    "\n",
    "nome = input('Olá, qual é seu nome?')\n",
    "\n",
    "print('Olá, ', nome, '!')"
   ]
  },
  {
   "cell_type": "code",
   "execution_count": 18,
   "metadata": {},
   "outputs": [
    {
     "output_type": "stream",
     "name": "stdout",
     "text": [
      "Voce nasceu em:  27/06/1994\nVoce nasceu em: 27/06/1994\n"
     ]
    }
   ],
   "source": [
    "# crie um script python que leio o dia, mes, ano  de nscimento de uma pessoa\n",
    "\n",
    "dia = input('Digite o dia que voce nasceu')\n",
    "mes = input('Digite o mes que voce nasceu')\n",
    "ano = input('Digite o ano que voce nasceu')\n",
    "\n",
    "print('Voce nasceu em: ', dia+'/'+mes+'/'+ano)\n",
    "print('Voce nasceu em: {0}/{1}/{2}' .format(dia,mes,ano))"
   ]
  },
  {
   "cell_type": "code",
   "execution_count": 17,
   "metadata": {},
   "outputs": [
    {
     "output_type": "stream",
     "name": "stdout",
     "text": [
      "A soma de 10 e 20 é: 30\n"
     ]
    }
   ],
   "source": [
    "# crie um script em python que leia dois numeros e soma\n",
    "\n",
    "n1 = int(input('Digite o primeiro numero'))\n",
    "n2 = int(input('Digite o segundo numero'))\n",
    "r = n1 + n2\n",
    "\n",
    "print('A soma de {0} e {1} é: {2}' .format(n1,n2,r))\n"
   ]
  }
 ]
}