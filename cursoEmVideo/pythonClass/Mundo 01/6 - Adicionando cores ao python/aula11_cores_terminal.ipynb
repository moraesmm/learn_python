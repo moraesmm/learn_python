{
 "metadata": {
  "language_info": {
   "codemirror_mode": {
    "name": "ipython",
    "version": 3
   },
   "file_extension": ".py",
   "mimetype": "text/x-python",
   "name": "python",
   "nbconvert_exporter": "python",
   "pygments_lexer": "ipython3",
   "version": "3.8.5"
  },
  "orig_nbformat": 2,
  "kernelspec": {
   "name": "python385jvsc74a57bd04a6e7bfd3d1e7148d77e9dbe2f33a582b0aa42ba41b7bb97518a70ebecc8b379",
   "display_name": "Python 3.8.5 64-bit ('morae': virtualenv)"
  }
 },
 "nbformat": 4,
 "nbformat_minor": 2,
 "cells": [
  {
   "cell_type": "code",
   "execution_count": 4,
   "metadata": {},
   "outputs": [
    {
     "output_type": "stream",
     "name": "stdout",
     "text": [
      "\u001b[1;31;43m Ola mundo\n"
     ]
    }
   ],
   "source": [
    "# \\033[0;33;44m\n",
    "# \\033[style;cor;fundom\n",
    "\n",
    "print('\\033[1;31;43m Ola mundo')"
   ]
  },
  {
   "cell_type": "code",
   "execution_count": 7,
   "metadata": {},
   "outputs": [
    {
     "output_type": "execute_result",
     "data": {
      "text/plain": [
       "31"
      ]
     },
     "metadata": {},
     "execution_count": 7
    }
   ],
   "source": [
    "3*5+4**2\n",
    "3*5+4**2"
   ]
  }
 ]
}