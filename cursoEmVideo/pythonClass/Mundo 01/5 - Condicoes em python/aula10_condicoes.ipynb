{
 "metadata": {
  "language_info": {
   "codemirror_mode": {
    "name": "ipython",
    "version": 3
   },
   "file_extension": ".py",
   "mimetype": "text/x-python",
   "name": "python",
   "nbconvert_exporter": "python",
   "pygments_lexer": "ipython3",
   "version": "3.8.5"
  },
  "orig_nbformat": 2,
  "kernelspec": {
   "name": "python385jvsc74a57bd04a6e7bfd3d1e7148d77e9dbe2f33a582b0aa42ba41b7bb97518a70ebecc8b379",
   "display_name": "Python 3.8.5 64-bit ('morae': virtualenv)"
  }
 },
 "nbformat": 4,
 "nbformat_minor": 2,
 "cells": [
  {
   "cell_type": "code",
   "execution_count": 4,
   "metadata": {},
   "outputs": [
    {
     "output_type": "stream",
     "name": "stdout",
     "text": [
      "Carro novo!\n---FIM---\n"
     ]
    }
   ],
   "source": [
    "tempo = int(input('Quantos anos tem seu carro?'))\n",
    "\n",
    "if tempo <= 3:\n",
    "    print('Carro novo!')\n",
    "else:   \n",
    "    print('Carro velho!')\n",
    "print('---FIM---')"
   ]
  },
  {
   "cell_type": "code",
   "execution_count": 11,
   "metadata": {},
   "outputs": [
    {
     "output_type": "stream",
     "name": "stdout",
     "text": [
      "Que nome lindo!\n\nBom dia, Mauricio Machado!\n"
     ]
    }
   ],
   "source": [
    "nome = str(input('Qual é o seu nome? '))\n",
    "if 'MAURICIO' in nome.upper():\n",
    "    print('Que nome lindo!\\n')\n",
    "else:\n",
    "    print('Seu nome é tão normal!')\n",
    "print('Bom dia, {}!' .format(nome.title()))"
   ]
  },
  {
   "cell_type": "code",
   "execution_count": 13,
   "metadata": {},
   "outputs": [
    {
     "output_type": "stream",
     "name": "stdout",
     "text": [
      "A sua média foi: 8.5\nSua media foi boa, parabens!\n"
     ]
    }
   ],
   "source": [
    "n1 = float(input('Digite a primeira nota'))\n",
    "n2 = float(input('Digite a segunda nota'))\n",
    "m = (n1 + n2) / 2\n",
    "print('A sua média foi: {:.1f}'.format(m))\n",
    "\n",
    "if m >=6.0:\n",
    "    print('Sua media foi boa, parabens!')\n",
    "else:\n",
    "    print('Sua media foi ruim, estude mais!')"
   ]
  }
 ]
}